{
 "cells": [
  {
   "cell_type": "markdown",
   "metadata": {},
   "source": [
    "# 4.1 intro.py"
   ]
  },
  {
   "cell_type": "code",
   "execution_count": 2,
   "metadata": {
    "collapsed": true
   },
   "outputs": [],
   "source": [
    "import numpy as np\n",
    "import matplotlib as mpl\n",
    "from mpl_toolkits.mplot3d import Axes3D\n",
    "from matplotlib import cm\n",
    "import time\n",
    "from scipy.optimize import leastsq\n",
    "from scipy import stats\n",
    "import scipy.optimize as opt\n",
    "import matplotlib.pyplot as plt\n",
    "from scipy.stats import norm, poisson\n",
    "from scipy.interpolate import BarycentricInterpolator\n",
    "from scipy.interpolate import CubicSpline\n",
    "import scipy as sp\n",
    "import math"
   ]
  },
  {
   "cell_type": "code",
   "execution_count": 3,
   "metadata": {
    "collapsed": true
   },
   "outputs": [],
   "source": [
    "def residual(t, x, y):\n",
    "    return y - (t[0] * x ** 2 + t[1] * x + t[2])\n",
    "\n",
    "\n",
    "def residual2(t, x, y):\n",
    "    print(t[0], t[1])\n",
    "    return y - (t[0]*np.sin(t[1]*x) + t[2])\n",
    "\n",
    "\n",
    "# x ** x        x > 0\n",
    "# (-x) ** (-x)  x < 0\n",
    "def f(x):\n",
    "    y = np.ones_like(x)\n",
    "    i = x > 0\n",
    "    y[i] = np.power(x[i], x[i])\n",
    "    i = x < 0\n",
    "    y[i] = np.power(-x[i], -x[i])\n",
    "    return y"
   ]
  },
  {
   "cell_type": "code",
   "execution_count": 5,
   "metadata": {},
   "outputs": [
    {
     "name": "stdout",
     "output_type": "stream",
     "text": [
      "[[ 0  1  2  3  4  5]\n",
      " [10 11 12 13 14 15]\n",
      " [20 21 22 23 24 25]\n",
      " [30 31 32 33 34 35]\n",
      " [40 41 42 43 44 45]\n",
      " [50 51 52 53 54 55]]\n"
     ]
    }
   ],
   "source": [
    "# # 开场白：\n",
    "    # numpy是非常好用的数据包，如：可以这样得到这个二维数组\n",
    "    # [[ 0  1  2  3  4  5]\n",
    "    #  [10 11 12 13 14 15]\n",
    "    #  [20 21 22 23 24 25]\n",
    "    #  [30 31 32 33 34 35]\n",
    "    #  [40 41 42 43 44 45]\n",
    "    #  [50 51 52 53 54 55]]\n",
    "a = np.arange(0, 60, 10).reshape((-1, 1)) + np.arange(6)\n",
    "print(a)"
   ]
  },
  {
   "cell_type": "markdown",
   "metadata": {},
   "source": [
    "正式开始  -:)\n",
    "标准Python的列表(list)中，元素本质是对象。\n",
    "如：L = [1, 2, 3]，需要3个指针和三个整数对象，对于数值运算比较浪费内存和CPU。\n",
    "因此，Numpy提供了ndarray(N-dimensional array object)对象：存储单一数据类型的多维数组。\n"
   ]
  },
  {
   "cell_type": "markdown",
   "metadata": {},
   "source": [
    "# 1.使用array创建"
   ]
  },
  {
   "cell_type": "code",
   "execution_count": 23,
   "metadata": {},
   "outputs": [
    {
     "name": "stdout",
     "output_type": "stream",
     "text": [
      "L =  [1, 2, 3, 4, 5, 6]\n",
      "a =  [1 2 3 4 5 6]\n",
      "<class 'numpy.ndarray'> <class 'list'>\n",
      "[[ 1  2  3  4]\n",
      " [ 5  6  7  8]\n",
      " [ 9 10 11 12]]\n"
     ]
    }
   ],
   "source": [
    "#   通过array函数传递list对象\n",
    "L = [1, 2, 3, 4, 5, 6]\n",
    "print(\"L = \", L)\n",
    "a = np.array(L)\n",
    "print(\"a = \", a)\n",
    "print(type(a), type(L))\n",
    "# 若传递的是多层嵌套的list，将创建多维数组\n",
    "b = np.array([[1, 2, 3, 4], [5, 6, 7, 8], [9, 10, 11, 12]])\n",
    "print(b)"
   ]
  },
  {
   "cell_type": "code",
   "execution_count": 17,
   "metadata": {},
   "outputs": [
    {
     "name": "stdout",
     "output_type": "stream",
     "text": [
      "a shape:\n",
      " (6,)\n",
      "b shape:\n",
      " (3, 4)\n",
      "b:\n",
      " [[ 1  2  3]\n",
      " [ 4  5  6]\n",
      " [ 7  8  9]\n",
      " [10 11 12]]\n",
      "b:\n",
      " [[ 1  2  3  4  5  6]\n",
      " [ 7  8  9 10 11 12]]\n",
      "b shape:\n",
      " (2, 6)\n",
      "b:\n",
      " [[ 1  2  3  4]\n",
      " [ 5  6  7  8]\n",
      " [ 9 10 11 12]]\n",
      "b = \n",
      " [[ 1  2  3  4]\n",
      " [ 5  6  7  8]\n",
      " [ 9 10 11 12]]\n",
      "c = \n",
      " [[ 1  2  3]\n",
      " [ 4  5  6]\n",
      " [ 7  8  9]\n",
      " [10 11 12]]\n"
     ]
    }
   ],
   "source": [
    "# # # # # 数组大小可以通过其shape属性获得\n",
    "print('a shape:\\n',a.shape)\n",
    "print('b shape:\\n',b.shape)\n",
    "\n",
    "# # # 也可以强制修改shape\n",
    "b.shape = 4, 3\n",
    "print('b:\\n',b)\n",
    "# # 注：从(3,4)改为(4,3)并不是对数组进行转置，而只是改变每个轴的大小，数组元素在内存中的位置并没有改变\n",
    "\n",
    "# # # 当某个轴为-1时，将根据数组元素的个数自动计算此轴的长度\n",
    "b.shape = 2, -1\n",
    "print('b:\\n',b)\n",
    "print('b shape:\\n',b.shape)\n",
    "\n",
    "b.shape = 3, 4\n",
    "print('b:\\n',b)"
   ]
  },
  {
   "cell_type": "code",
   "execution_count": 19,
   "metadata": {},
   "outputs": [
    {
     "name": "stdout",
     "output_type": "stream",
     "text": [
      "b = \n",
      " [[ 1  2  3  4]\n",
      " [ 5  6  7  8]\n",
      " [ 9 10 11 12]]\n",
      "c = \n",
      " [[ 1  2  3]\n",
      " [ 4  5  6]\n",
      " [ 7  8  9]\n",
      " [10 11 12]]\n",
      "b = \n",
      " [[ 1 20  3  4]\n",
      " [ 5  6  7  8]\n",
      " [ 9 10 11 12]]\n",
      "c = \n",
      " [[ 1 20  3]\n",
      " [ 4  5  6]\n",
      " [ 7  8  9]\n",
      " [10 11 12]]\n"
     ]
    }
   ],
   "source": [
    "# # # # 使用reshape方法，可以创建改变了尺寸的新数组，原数组的shape保持不变\n",
    "c = b.reshape((4, -1))\n",
    "print(\"b = \\n\", b)\n",
    "print('c = \\n', c)\n",
    "\n",
    "# # # # 数组b和c共享内存，修改任意一个将影响另外一个\n",
    "b[0][1] = 20\n",
    "print(\"b = \\n\", b)\n",
    "print(\"c = \\n\", c)"
   ]
  },
  {
   "cell_type": "code",
   "execution_count": 21,
   "metadata": {},
   "outputs": [
    {
     "name": "stdout",
     "output_type": "stream",
     "text": [
      "int32\n",
      "int32\n",
      "[[  1.   2.   3.   4.]\n",
      " [  5.   6.   7.   8.]\n",
      " [  9.  10.  11.  12.]]\n",
      "[[  1.+0.j   2.+0.j   3.+0.j   4.+0.j]\n",
      " [  5.+0.j   6.+0.j   7.+0.j   8.+0.j]\n",
      " [  9.+0.j  10.+0.j  11.+0.j  12.+0.j]]\n",
      "[[ 1  2  3  4]\n",
      " [ 5  6  7  8]\n",
      " [ 9 10 11 12]]\n",
      "[[         0 1072693248          0 1073741824          0 1074266112\n",
      "           0 1074790400]\n",
      " [         0 1075052544          0 1075314688          0 1075576832\n",
      "           0 1075838976]\n",
      " [         0 1075970048          0 1076101120          0 1076232192\n",
      "           0 1076363264]]\n"
     ]
    }
   ],
   "source": [
    "# # # # 数组的元素类型可以通过dtype属性获得\n",
    "print(a.dtype)\n",
    "print(b.dtype)\n",
    "\n",
    "# # # # # 可以通过dtype参数在创建时指定元素类型\n",
    "d = np.array([[1, 2, 3, 4], [5, 6, 7, 8], [9, 10, 11, 12]], dtype=np.float)\n",
    "f = np.array([[1, 2, 3, 4], [5, 6, 7, 8], [9, 10, 11, 12]], dtype=np.complex)\n",
    "print(d)\n",
    "print(f)\n",
    "\n",
    "# # # 如果更改元素类型，可以使用astype安全的转换\n",
    "f = d.astype(np.int)\n",
    "print(f)\n",
    "\n",
    "# # # # 但不要强制仅修改元素类型，如下面这句，将会以int来解释单精度float类型\n",
    "d.dtype = np.int\n",
    "print(d)"
   ]
  },
  {
   "cell_type": "markdown",
   "metadata": {},
   "source": [
    "# 2.使用函数创建"
   ]
  },
  {
   "cell_type": "code",
   "execution_count": 48,
   "metadata": {},
   "outputs": [
    {
     "name": "stdout",
     "output_type": "stream",
     "text": [
      "[ 1.   1.5  2.   2.5  3.   3.5  4.   4.5  5.   5.5  6.   6.5  7.   7.5\n",
      "  8.   8.5  9.   9.5]\n",
      "b =  [  1.   2.   3.   4.   5.   6.   7.   8.   9.  10.]\n",
      "c =  [ 1.   1.9  2.8  3.7  4.6  5.5  6.4  7.3  8.2  9.1]\n",
      "d =  [  2.   4.   8.  16.]\n",
      "f =  [    1.     2.     4.     8.    16.    32.    64.   128.   256.   512.\n",
      "  1024.]\n",
      "g =  [ 97  98  99 100 122 122 122 122]\n"
     ]
    }
   ],
   "source": [
    "# 如果生成一定规则的数据，可以使用NumPy提供的专门函数\n",
    "# arange函数类似于python的range函数：指定起始值、终止值和步长来创建数组\n",
    "# 和Python的range类似，arange同样不包括终值；但arange可以生成浮点类型，而range只能是整数类型\n",
    "np.set_printoptions(linewidth=70, suppress=True)\n",
    "a = np.arange(1, 10, 0.5)\n",
    "print(a)\n",
    "\n",
    "# # # # linspace函数通过指定起始值、终止值和元素个数来创建数组，缺省包括终止值\n",
    "b = np.linspace(1, 10, 10)\n",
    "print('b = ', b)\n",
    "\n",
    "# # 可以通过endpoint关键字指定是否包括终值\n",
    "c = np.linspace(1, 10, 10, endpoint=False)\n",
    "print('c = ', c)\n",
    "#\n",
    "# # # 和linspace类似，logspace可以创建等比数列\n",
    "# # 下面函数创建起始值为2^1，终止值为2^2，有4个数的等比数列\n",
    "d = np.logspace(1, 4, 4, endpoint=True, base=2)\n",
    "print('d = ', d)\n",
    "# # # # #\n",
    "# # # # # 下面创建起始值为2^0，终止值为2^10(包括)，有11个数的等比数列\n",
    "f = np.logspace(0, 10, 11, endpoint=True, base=2)\n",
    "print('f = ', f)\n",
    "#\n",
    "# # # # 使用 frombuffer, fromstring, fromfile等函数可以从字节序列创建数组\n",
    "s = 'abcdzzzz'\n",
    "g = np.fromstring(s, dtype=np.int8)\n",
    "print('g = ', g)"
   ]
  },
  {
   "cell_type": "markdown",
   "metadata": {},
   "source": [
    "# 3.存取"
   ]
  },
  {
   "cell_type": "code",
   "execution_count": 59,
   "metadata": {},
   "outputs": [
    {
     "name": "stdout",
     "output_type": "stream",
     "text": [
      "a =  [0 1 2 3 4 5 6 7 8 9]\n",
      "a[3] =  3\n",
      "a[3:6] =  [3 4 5]\n",
      "a[:5] =  [0 1 2 3 4]\n",
      "a[-3:] =  [7 8 9]\n",
      "a[1:9:2] =  [1 3 5 7]\n",
      "a[::-1] =  [9 8 7 6 5 4 3 2 1 0]\n",
      "[ 0 10 20 30  4  5  6  7  8  9]\n",
      "[  0  10 200  30   4   5   6   7   8   9]\n"
     ]
    }
   ],
   "source": [
    "# 3.1常规办法：数组元素的存取方法和Python的标准方法相同\n",
    "a = np.arange(10)\n",
    "print('a = ',a)\n",
    "# # 获取某个元素\n",
    "print('a[3] = ',a[3])\n",
    "# # # # 切片[3,6)，左闭右开\n",
    "print('a[3:6] = ',a[3:6])\n",
    "# # 省略开始下标，表示从0开始\n",
    "print('a[:5] = ',a[:5])\n",
    "# # 下标为负表示从后向前数\n",
    "print('a[-3:] = ',a[-3:])\n",
    "# 步长为2\n",
    "print('a[1:9:2] = ',a[1:9:2])\n",
    "# # # # # 步长为-1，即翻转\n",
    "print('a[::-1] = ', a[::-1])\n",
    "# 切片数据是原数组的一个视图，与原数组共享内容空间，可以直接修改元素值\n",
    "a[1:4] = 10, 20, 30\n",
    "print(a)\n",
    "# 因此，在实践中，切实注意原始数据是否被破坏，如：\n",
    "b = a[2:5]\n",
    "b[0] = 200\n",
    "print(a)    "
   ]
  },
  {
   "cell_type": "markdown",
   "metadata": {},
   "source": [
    "切片数据是原数组的一个视图，与原数组共享内容空间，可以直接修改元素值\n",
    "\n",
    "但是用数组或者布尔数组存取，修改一个不会让另一个受到影响"
   ]
  },
  {
   "cell_type": "code",
   "execution_count": 63,
   "metadata": {},
   "outputs": [
    {
     "name": "stdout",
     "output_type": "stream",
     "text": [
      "a:  [   1.    2.    4.    8.   16.   32.   64.  128.  256.  512.]\n",
      "i:  [0 2 4 6 8]\n",
      "[   1.    4.   16.   64.  256.]\n",
      "[   1.     4.     1.6   64.   256. ]\n",
      "[   1.    2.    4.    8.   16.   32.   64.  128.  256.  512.]\n"
     ]
    }
   ],
   "source": [
    "# 3.2 整数/布尔数组存取\n",
    "# 3.2.1\n",
    "# 根据整数数组存取：当使用整数序列对数组元素进行存取时，\n",
    "# 将使用整数序列中的每个元素作为下标，整数序列可以是列表(list)或者数组(ndarray)。\n",
    "# 使用整数序列作为下标获得的数组不和原始数组共享数据空间。\n",
    "a = np.logspace(0, 9, 10, base=2)\n",
    "print('a: ',a)\n",
    "i = np.arange(0, 10, 2)\n",
    "print('i: ',i)\n",
    "# # # 利用i取a中的元素\n",
    "b = a[i]\n",
    "print(b)\n",
    "# # # b的元素更改，a中元素不受影响\n",
    "b[2] = 1.6\n",
    "print(b)\n",
    "print(a)"
   ]
  },
  {
   "cell_type": "code",
   "execution_count": 64,
   "metadata": {},
   "outputs": [
    {
     "name": "stdout",
     "output_type": "stream",
     "text": [
      "[ 0.44927762  0.72867686  0.57364268  0.04869038  0.50036216\n",
      "  0.14023408  0.26381118  0.93184698  0.83330062  0.2507929 ]\n",
      "[False  True  True False  True False False  True  True False]\n",
      "[ 0.72867686  0.57364268  0.50036216  0.93184698  0.83330062]\n",
      "[ 0.44927762  0.5         0.5         0.04869038  0.5         0.14023408\n",
      "  0.26381118  0.5         0.5         0.2507929 ]\n",
      "[ 0.72867686  0.57364268  0.50036216  0.93184698  0.83330062]\n"
     ]
    }
   ],
   "source": [
    "# # 3.2.2\n",
    "# 使用布尔数组i作为下标存取数组a中的元素：返回数组a中所有在数组b中对应下标为True的元素\n",
    "# 生成10个满足[0,1)中均匀分布的随机数\n",
    "a = np.random.rand(10)\n",
    "print(a)\n",
    "# # 大于0.5的元素索引\n",
    "print(a > 0.5)\n",
    "# # # 大于0.5的元素\n",
    "b = a[a > 0.5]\n",
    "print(b)\n",
    "# # # 将原数组中大于0.5的元素截取成0.5\n",
    "a[a > 0.5] = 0.5\n",
    "print(a)\n",
    "# # # # # b不受影响\n",
    "print(b)"
   ]
  },
  {
   "cell_type": "code",
   "execution_count": 72,
   "metadata": {},
   "outputs": [
    {
     "name": "stdout",
     "output_type": "stream",
     "text": [
      "a =  [ 0 10 20 30 40 50]\n",
      "b = \n",
      " [[ 0]\n",
      " [10]\n",
      " [20]\n",
      " [30]\n",
      " [40]\n",
      " [50]]\n",
      "c =  [0 1 2 3 4 5]\n",
      "f = \n",
      " [[ 0  1  2  3  4  5]\n",
      " [10 11 12 13 14 15]\n",
      " [20 21 22 23 24 25]\n",
      " [30 31 32 33 34 35]\n",
      " [40 41 42 43 44 45]\n",
      " [50 51 52 53 54 55]]\n",
      "[[ 0  1  2  3  4  5]\n",
      " [10 11 12 13 14 15]\n",
      " [20 21 22 23 24 25]\n",
      " [30 31 32 33 34 35]\n",
      " [40 41 42 43 44 45]\n",
      " [50 51 52 53 54 55]]\n",
      "[ 2 13 24]\n",
      "[42 43 44]\n",
      "[[42 43 44]\n",
      " [52 53 54]]\n",
      "[[ 0  1  2  3  4  5]\n",
      " [20 21 22 23 24 25]\n",
      " [50 51 52 53 54 55]]\n",
      "[ 3 23 53]\n"
     ]
    }
   ],
   "source": [
    "# 3.3 二维数组的切片\n",
    "# [[ 0  1  2  3  4  5]\n",
    "#  [10 11 12 13 14 15]\n",
    "#  [20 21 22 23 24 25]\n",
    "#  [30 31 32 33 34 35]\n",
    "#  [40 41 42 43 44 45]\n",
    "#  [50 51 52 53 54 55]]\n",
    "a = np.arange(0, 60, 10)    # 行向量\n",
    "print('a = ', a)\n",
    "b = a.reshape((-1, 1))      # 转换成列向量\n",
    "print('b = \\n', b)\n",
    "c = np.arange(6)\n",
    "print('c = ', c)\n",
    "f = b + c   # 行 + 列\n",
    "print('f = \\n', f)\n",
    "# # 合并上述代码：\n",
    "a = np.arange(0, 60, 10).reshape((-1, 1)) + np.arange(6)\n",
    "print(a)\n",
    "# # # 二维数组的切片\n",
    "print(a[[0, 1, 2], [2, 3, 4]])\n",
    "print(a[4, [2, 3, 4]])\n",
    "print(a[4:, [2, 3, 4]])\n",
    "i = np.array([True, False, True, False, False, True])\n",
    "print(a[i])\n",
    "print(a[i, 3])"
   ]
  },
  {
   "cell_type": "markdown",
   "metadata": {},
   "source": [
    "# 4. 其它"
   ]
  },
  {
   "cell_type": "code",
   "execution_count": 73,
   "metadata": {},
   "outputs": [
    {
     "name": "stderr",
     "output_type": "stream",
     "text": [
      "C:\\ProgramData\\Anaconda3\\lib\\site-packages\\ipykernel_launcher.py:3: DeprecationWarning: object of type <class 'numpy.float64'> cannot be safely interpreted as an integer.\n",
      "  This is separate from the ipykernel package so we can avoid doing imports until\n"
     ]
    },
    {
     "name": "stdout",
     "output_type": "stream",
     "text": [
      "1.0 :  4.946442394968479e-06 6.801358293081657e-06 1.3749999999999998\n",
      "10.0 :  5.255595044653975e-06 1.1129495388679102e-05 2.1176470588235476\n",
      "100.0 :  5.564747694339605e-06 5.28651030962256e-05 9.499999999999883\n",
      "1000.0 :  0.00012706173902075294 0.0005125750931786088 4.03406326034063\n",
      "10000.0 :  0.00017714446826980895 0.005396877805560295 30.465968586387376\n",
      "100000.0 :  0.0017083775421622392 0.03237322886446995 18.949692363373135\n",
      "1000000.0 :  0.008805904073642637 0.2345021776712644 26.63010813088049\n",
      "10000000.0 :  0.08509241191004402 2.2388306239195117 26.31057897719841\n"
     ]
    }
   ],
   "source": [
    "# 4.1 numpy与Python数学库的时间比较\n",
    "for j in np.logspace(0, 7, 8):\n",
    "    x = np.linspace(0, 10, j)\n",
    "    start = time.clock()\n",
    "    y = np.sin(x)\n",
    "    t1 = time.clock() - start\n",
    "\n",
    "    x = x.tolist()\n",
    "    start = time.clock()\n",
    "    for i, t in enumerate(x):\n",
    "        x[i] = math.sin(t)\n",
    "    t2 = time.clock() - start\n",
    "    print(j, \": \", t1, t2, t2/t1)"
   ]
  },
  {
   "cell_type": "code",
   "execution_count": 75,
   "metadata": {},
   "outputs": [
    {
     "name": "stdout",
     "output_type": "stream",
     "text": [
      "原始数组： [1 2 3 4 5 5 7 3 2 2 8 8]\n",
      "去重后： [1 2 3 4 5 7 8]\n",
      "二维数组：\n",
      " [[1 2]\n",
      " [3 4]\n",
      " [5 6]\n",
      " [1 3]\n",
      " [3 4]\n",
      " [7 6]]\n",
      "去重后： [1 2 3 4 5 6 7]\n",
      "转换成虚数： [[ 1.+2.j]\n",
      " [ 3.+4.j]\n",
      " [ 5.+6.j]\n",
      " [ 1.+3.j]\n",
      " [ 3.+4.j]\n",
      " [ 7.+6.j]]\n",
      "虚数去重后： [ 1.+2.j  1.+3.j  3.+4.j  5.+6.j  7.+6.j]\n",
      "(array([ 1.+2.j,  1.+3.j,  3.+4.j,  5.+6.j,  7.+6.j]), array([0, 3, 1, 2, 5], dtype=int64))\n",
      "二维数组去重：\n",
      " [[1 2]\n",
      " [1 3]\n",
      " [3 4]\n",
      " [5 6]\n",
      " [7 6]]\n",
      "去重方案2：\n",
      " [[1 2]\n",
      " [1 3]\n",
      " [5 6]\n",
      " [7 6]\n",
      " [3 4]]\n"
     ]
    }
   ],
   "source": [
    "# 4.2 元素去重\n",
    "# 4.2.1直接使用库函数\n",
    "a = np.array((1, 2, 3, 4, 5, 5, 7, 3, 2, 2, 8, 8))\n",
    "print('原始数组：', a)\n",
    "# # # 使用库函数unique\n",
    "b = np.unique(a)\n",
    "print('去重后：', b)\n",
    "# # 4.2.2 二维数组的去重，结果会是预期的么？\n",
    "c = np.array(((1, 2), (3, 4), (5, 6), (1, 3), (3, 4), (7, 6)))\n",
    "print('二维数组：\\n', c)\n",
    "print('去重后：', np.unique(c))\n",
    "# # # 4.2.3 方案1：转换为虚数\n",
    "r, i = np.split(c, (1, ), axis=1)\n",
    "x = r + i * 1j\n",
    "# x = c[:, 0] + c[:, 1] * 1j\n",
    "print('转换成虚数：', x)\n",
    "print('虚数去重后：', np.unique(x))\n",
    "print(np.unique(x, return_index=True))   # 思考return_index的意义\n",
    "idx = np.unique(x, return_index=True)[1]\n",
    "print('二维数组去重：\\n', c[idx])\n",
    "# # 4.2.3 方案2：利用set\n",
    "print('去重方案2：\\n', np.array(list(set([tuple(t) for t in c]))))\n"
   ]
  },
  {
   "cell_type": "code",
   "execution_count": 89,
   "metadata": {},
   "outputs": [
    {
     "name": "stdout",
     "output_type": "stream",
     "text": [
      "a = \n",
      " [[1 2 3]\n",
      " [4 5 6]]\n",
      "b = \n",
      " [[11 12 13]\n",
      " [14 15 16]]\n",
      "c = \n",
      " [[21 22 23]\n",
      " [24 25 26]]\n",
      "d = \n",
      " [[31 32 33]\n",
      " [34 35 36]]\n",
      "axis = 0  (4, 2, 3) \n",
      " [[[ 1  2  3]\n",
      "  [ 4  5  6]]\n",
      "\n",
      " [[11 12 13]\n",
      "  [14 15 16]]\n",
      "\n",
      " [[21 22 23]\n",
      "  [24 25 26]]\n",
      "\n",
      " [[31 32 33]\n",
      "  [34 35 36]]]\n",
      "axis = 1  (2, 4, 3) \n",
      " [[[ 1  2  3]\n",
      "  [11 12 13]\n",
      "  [21 22 23]\n",
      "  [31 32 33]]\n",
      "\n",
      " [[ 4  5  6]\n",
      "  [14 15 16]\n",
      "  [24 25 26]\n",
      "  [34 35 36]]]\n",
      "axis = 2  (2, 3, 4) \n",
      " [[[ 1 11 21 31]\n",
      "  [ 2 12 22 32]\n",
      "  [ 3 13 23 33]]\n",
      "\n",
      " [[ 4 14 24 34]\n",
      "  [ 5 15 25 35]\n",
      "  [ 6 16 26 36]]]\n",
      "[[1 2 3]\n",
      " [4 5 6]\n",
      " [7 8 9]]\n",
      "[[11 12 13]\n",
      " [14 15 16]\n",
      " [17 18 19]]\n",
      "[[ 90  96 102]\n",
      " [216 231 246]\n",
      " [342 366 390]]\n",
      "[[ 11  24  39]\n",
      " [ 56  75  96]\n",
      " [119 144 171]]\n",
      "[1 2 3 4 5 6 7 8 9]\n",
      "[20 21 22 23 24]\n",
      "[ 1  2  3  4  5  6  7  8  9 20 21 22 23 24]\n"
     ]
    }
   ],
   "source": [
    "# 4.3 stack and axis\n",
    "a = np.arange(1, 7).reshape((2, 3))\n",
    "b = np.arange(11, 17).reshape((2, 3))\n",
    "c = np.arange(21, 27).reshape((2, 3))\n",
    "d = np.arange(31, 37).reshape((2, 3))\n",
    "print('a = \\n', a)\n",
    "print('b = \\n', b)\n",
    "print('c = \\n', c)\n",
    "print('d = \\n', d)\n",
    "s = np.stack((a, b, c, d), axis=0)\n",
    "print('axis = 0 ', s.shape, '\\n', s)\n",
    "s = np.stack((a, b, c, d), axis=1)\n",
    "print('axis = 1 ', s.shape, '\\n', s)\n",
    "s = np.stack((a, b, c, d), axis=2)\n",
    "print('axis = 2 ', s.shape, '\\n', s)\n",
    "\n",
    "a = np.arange(1, 10).reshape(3,3)\n",
    "print(a)\n",
    "b = a + 10\n",
    "print(b)\n",
    "print(np.dot(a, b))\n",
    "print(a * b)\n",
    "\n",
    "a = np.arange(1, 10)\n",
    "print(a)\n",
    "b = np.arange(20,25)\n",
    "print(b)\n",
    "print(np.concatenate((a, b)))"
   ]
  },
  {
   "cell_type": "markdown",
   "metadata": {},
   "source": [
    "# 5.绘图"
   ]
  },
  {
   "cell_type": "code",
   "execution_count": 49,
   "metadata": {},
   "outputs": [
    {
     "ename": "IndentationError",
     "evalue": "unexpected indent (<ipython-input-49-e70cb0f21c44>, line 2)",
     "output_type": "error",
     "traceback": [
      "\u001b[1;36m  File \u001b[1;32m\"<ipython-input-49-e70cb0f21c44>\"\u001b[1;36m, line \u001b[1;32m2\u001b[0m\n\u001b[1;33m    mpl.rcParams['font.sans-serif'] = [u'SimHei']  #FangSong/黑体 FangSong/KaiTi\u001b[0m\n\u001b[1;37m    ^\u001b[0m\n\u001b[1;31mIndentationError\u001b[0m\u001b[1;31m:\u001b[0m unexpected indent\n"
     ]
    }
   ],
   "source": [
    "# 5.1 绘制正态分布概率密度函数\n",
    "    mpl.rcParams['font.sans-serif'] = [u'SimHei']  #FangSong/黑体 FangSong/KaiTi\n",
    "    mpl.rcParams['axes.unicode_minus'] = False\n",
    "    # mu = 0\n",
    "    # sigma = 1\n",
    "    # x = np.linspace(mu - 3 * sigma, mu + 3 * sigma, 51)\n",
    "    # y = np.exp(-(x - mu) ** 2 / (2 * sigma ** 2)) / (math.sqrt(2 * math.pi) * sigma)\n",
    "    # print(x.shape)\n",
    "    # print('x = \\n', x)\n",
    "    # print(y.shape)\n",
    "    # print('y = \\n', y)\n",
    "    # plt.figure(facecolor='w')\n",
    "    # plt.plot(x, y, 'ro-', linewidth=2)\n",
    "    # # plt.plot(x, y, 'r-', x, y, 'go', linewidth=2, markersize=8)\n",
    "    # plt.xlabel('X', fontsize=15)\n",
    "    # plt.ylabel('Y', fontsize=15)\n",
    "    # plt.title(u'高斯分布函数', fontsize=18)    #\n",
    "    # plt.grid(True)\n",
    "    # plt.show()"
   ]
  },
  {
   "cell_type": "code",
   "execution_count": 50,
   "metadata": {
    "collapsed": true
   },
   "outputs": [],
   "source": [
    "# 5.2 损失函数：Logistic损失(-1,1)/SVM Hinge损失/ 0/1损失\n",
    "    # plt.figure(figsize=(10,8))\n",
    "    # x = np.linspace(start=-2, stop=3, num=1001, dtype=np.float)\n",
    "    # y_logit = np.log(1 + np.exp(-x)) / math.log(2)\n",
    "    # y_boost = np.exp(-x)\n",
    "    # y_01 = x < 0\n",
    "    # y_hinge = 1.0 - x\n",
    "    # y_hinge[y_hinge < 0] = 0\n",
    "    # plt.plot(x, y_logit, 'r-', label='Logistic Loss', linewidth=2)\n",
    "    # plt.plot(x, y_01, 'g-', label='0/1 Loss', linewidth=2)\n",
    "    # plt.plot(x, y_hinge, 'b-', label='Hinge Loss', linewidth=2)\n",
    "    # plt.plot(x, y_boost, 'm--', label='Adaboost Loss', linewidth=2)\n",
    "    # plt.grid()\n",
    "    # plt.legend(loc='upper right')\n",
    "    # plt.savefig('1.png')\n",
    "    # plt.show()"
   ]
  },
  {
   "cell_type": "code",
   "execution_count": null,
   "metadata": {
    "collapsed": true
   },
   "outputs": [],
   "source": [
    "# 5.3 x^x\n",
    "    # plt.figure(facecolor='w')\n",
    "    # x = np.linspace(-1.3, 1.3, 101)\n",
    "    # y = f(x)\n",
    "    # plt.plot(x, y, 'g-', label='x^x', linewidth=2)\n",
    "    # plt.grid()\n",
    "    # plt.legend(loc='upper left')\n",
    "    # plt.show()"
   ]
  },
  {
   "cell_type": "code",
   "execution_count": null,
   "metadata": {
    "collapsed": true
   },
   "outputs": [],
   "source": [
    "# 5.4 胸型线\n",
    "    # x = np.arange(1, 0, -0.001)\n",
    "    # y = (-3 * x * np.log(x) + np.exp(-(40 * (x - 1 / np.e)) ** 4) / 25) / 2\n",
    "    # plt.figure(figsize=(5,7), facecolor='w')\n",
    "    # plt.plot(y, x, 'r-', linewidth=2)\n",
    "    # plt.grid(True)\n",
    "    # plt.title(u'胸型线', fontsize=20)\n",
    "    # # plt.savefig('breast.png')\n",
    "    # plt.show()"
   ]
  },
  {
   "cell_type": "code",
   "execution_count": 52,
   "metadata": {},
   "outputs": [
    {
     "data": {
      "image/png": "[encoded data removed]",
      "text/plain": [
       "<matplotlib.figure.Figure at 0x817c550>"
      ]
     },
     "metadata": {},
     "output_type": "display_data"
    }
   ],
   "source": [
    "# 5.5 心形线\n",
    "t = np.linspace(0, 2*np.pi, 100)\n",
    "x = 16 * np.sin(t) ** 3\n",
    "y = 13 * np.cos(t) - 5 * np.cos(2*t) - 2 * np.cos(3*t) - np.cos(4*t)\n",
    "plt.plot(x, y, 'r-', linewidth=2)\n",
    "plt.grid(True)\n",
    "plt.show()"
   ]
  },
  {
   "cell_type": "code",
   "execution_count": null,
   "metadata": {
    "collapsed": true
   },
   "outputs": [],
   "source": [
    "# # 5.6 渐开线\n",
    "    # t = np.linspace(0, 50, num=1000)\n",
    "    # x = t*np.sin(t) + np.cos(t)\n",
    "    # y = np.sin(t) - t*np.cos(t)\n",
    "    # plt.plot(x, y, 'r-', linewidth=2)\n",
    "    # plt.grid()\n",
    "    # plt.show()\n",
    "\n",
    "    # Bar\n",
    "    # x = np.arange(0, 10, 0.1)\n",
    "    # y = np.sin(x)\n",
    "    # plt.bar(x, y, width=0.04, linewidth=0.2)\n",
    "    # plt.plot(x, y, 'r--', linewidth=2)\n",
    "    # plt.title(u'Sin曲线')\n",
    "    # plt.xticks(rotation=-60)\n",
    "    # plt.xlabel('X')\n",
    "    # plt.ylabel('Y')\n",
    "    # plt.grid()\n",
    "    # plt.show()"
   ]
  },
  {
   "cell_type": "markdown",
   "metadata": {},
   "source": [
    "# 6. 概率分布"
   ]
  },
  {
   "cell_type": "code",
   "execution_count": null,
   "metadata": {
    "collapsed": true
   },
   "outputs": [],
   "source": [
    "# 6.1 均匀分布\n",
    "    # x = np.random.rand(10000)\n",
    "    # t = np.arange(len(x))\n",
    "    # # plt.hist(x, 30, color='m', alpha=0.5, label=u'均匀分布')\n",
    "    # plt.plot(t, x, 'g.', label=u'均匀分布')\n",
    "    # plt.legend(loc='upper left')\n",
    "    # plt.grid()\n",
    "    # plt.show()"
   ]
  },
  {
   "cell_type": "code",
   "execution_count": null,
   "metadata": {
    "collapsed": true
   },
   "outputs": [],
   "source": [
    "# # 6.2 验证中心极限定理\n",
    "    # t = 1000\n",
    "    # a = np.zeros(10000)\n",
    "    # for i in range(t):\n",
    "    #     a += np.random.uniform(-5, 5, 10000)\n",
    "    # a /= t\n",
    "    # plt.hist(a, bins=30, color='g', alpha=0.5, normed=True, label=u'均匀分布叠加')\n",
    "    # plt.legend(loc='upper left')\n",
    "    # plt.grid()\n",
    "    # plt.show()"
   ]
  },
  {
   "cell_type": "code",
   "execution_count": null,
   "metadata": {
    "collapsed": true
   },
   "outputs": [],
   "source": [
    "# 6.21 其他分布的中心极限定理\n",
    "    # lamda = 7\n",
    "    # p = stats.poisson(lamda)\n",
    "    # y = p.rvs(size=1000)\n",
    "    # mx = 30\n",
    "    # r = (0, mx)\n",
    "    # bins = r[1] - r[0]\n",
    "    # plt.figure(figsize=(15, 8), facecolor='w')\n",
    "    # plt.subplot(121)\n",
    "    # plt.hist(y, bins=bins, range=r, color='g', alpha=0.8, normed=True)\n",
    "    # t = np.arange(0, mx+1)\n",
    "    # plt.plot(t, p.pmf(t), 'ro-', lw=2)\n",
    "    # plt.grid(True)\n",
    "    #\n",
    "    # N = 1000\n",
    "    # M = 10000\n",
    "    # plt.subplot(122)\n",
    "    # a = np.zeros(M, dtype=np.float)\n",
    "    # p = stats.poisson(lamda)\n",
    "    # for i in np.arange(N):\n",
    "    #     a += p.rvs(size=M)\n",
    "    # a /= N\n",
    "    # plt.hist(a, bins=20, color='g', alpha=0.8, normed=True)\n",
    "    # plt.grid(b=True)\n",
    "    # plt.show()"
   ]
  },
  {
   "cell_type": "code",
   "execution_count": null,
   "metadata": {
    "collapsed": true
   },
   "outputs": [],
   "source": [
    "# 6.3 Poisson分布\n",
    "    # x = np.random.poisson(lam=5, size=10000)\n",
    "    # print(x)\n",
    "    # pillar = 15\n",
    "    # a = plt.hist(x, bins=pillar, normed=True, range=[0, pillar], color='g', alpha=0.5)\n",
    "    # plt.grid()\n",
    "    # plt.show()\n",
    "    # print(a)\n",
    "    # print(a[0].sum())"
   ]
  },
  {
   "cell_type": "code",
   "execution_count": null,
   "metadata": {
    "collapsed": true
   },
   "outputs": [],
   "source": [
    "# # 6.4 直方图的使用\n",
    "    # mu = 2\n",
    "    # sigma = 3\n",
    "    # data = mu + sigma * np.random.randn(1000)\n",
    "    # h = plt.hist(data, 30, normed=1, color='#FFFFA0')\n",
    "    # x = h[1]\n",
    "    # y = norm.pdf(x, loc=mu, scale=sigma)\n",
    "    # plt.plot(x, y, 'r-', x, y, 'ro', linewidth=2, markersize=4)\n",
    "    # plt.grid()\n",
    "    # plt.show()"
   ]
  },
  {
   "cell_type": "code",
   "execution_count": null,
   "metadata": {
    "collapsed": true
   },
   "outputs": [],
   "source": [
    "# # 6.5 插值\n",
    "    # rv = poisson(5)\n",
    "    # x1 = a[1]\n",
    "    # y1 = rv.pmf(x1)\n",
    "    # itp = BarycentricInterpolator(x1, y1)  # 重心插值\n",
    "    # x2 = np.linspace(x.min(), x.max(), 50)\n",
    "    # y2 = itp(x2)\n",
    "    # cs = sp.interpolate.CubicSpline(x1, y1)       # 三次样条插值\n",
    "    # plt.plot(x2, cs(x2), 'm--', linewidth=5, label='CubicSpine')           # 三次样条插值\n",
    "    # plt.plot(x2, y2, 'g-', linewidth=3, label='BarycentricInterpolator')   # 重心插值\n",
    "    # plt.plot(x1, y1, 'r-', linewidth=1, label='Actural Value')             # 原始值\n",
    "    # plt.legend(loc='upper right')\n",
    "    # plt.grid()\n",
    "    # plt.show()"
   ]
  },
  {
   "cell_type": "code",
   "execution_count": null,
   "metadata": {
    "collapsed": true
   },
   "outputs": [],
   "source": [
    "# 6.6 Poisson分布\n",
    "    # size = 1000\n",
    "    # lamda = 5\n",
    "    # p = np.random.poisson(lam=lamda, size=size)\n",
    "    # plt.figure()\n",
    "    # plt.hist(p, bins=range(3 * lamda), histtype='bar', align='left', color='r', rwidth=0.8, normed=True)\n",
    "    # plt.grid(b=True, ls=':')\n",
    "    # # plt.xticks(range(0, 15, 2))\n",
    "    # plt.title('Numpy.random.poisson', fontsize=13)\n",
    "    #\n",
    "    # plt.figure()\n",
    "    # r = stats.poisson(mu=lamda)\n",
    "    # p = r.rvs(size=size)\n",
    "    # plt.hist(p, bins=range(3 * lamda), color='r', align='left', rwidth=0.8, normed=True)\n",
    "    # plt.grid(b=True, ls=':')\n",
    "    # plt.title('scipy.stats.poisson', fontsize=13)\n",
    "    # plt.show()"
   ]
  },
  {
   "cell_type": "markdown",
   "metadata": {},
   "source": [
    "# 7. 绘制三维图像"
   ]
  },
  {
   "cell_type": "code",
   "execution_count": null,
   "metadata": {
    "collapsed": true
   },
   "outputs": [],
   "source": [
    "# x, y = np.mgrid[-3:3:7j, -3:3:7j]\n",
    "    # print(x)\n",
    "    # print(y)\n",
    "    # u = np.linspace(-3, 3, 101)\n",
    "    # x, y = np.meshgrid(u, u)\n",
    "    # print(x)\n",
    "    # print(y)\n",
    "    # z = x*y*np.exp(-(x**2 + y**2)/2) / math.sqrt(2*math.pi)\n",
    "    # # z = x*y*np.exp(-(x**2 + y**2)/2) / math.sqrt(2*math.pi)\n",
    "    # fig = plt.figure()\n",
    "    # ax = fig.add_subplot(111, projection='3d')\n",
    "    # # ax.plot_surface(x, y, z, rstride=5, cstride=5, cmap=cm.coolwarm, linewidth=0.1)  #\n",
    "    # ax.plot_surface(x, y, z, rstride=3, cstride=3, cmap=cm.gist_heat, linewidth=0.5)\n",
    "    # plt.show()\n",
    "    # # cmaps = [('Perceptually Uniform Sequential',\n",
    "    # #           ['viridis', 'inferno', 'plasma', 'magma']),\n",
    "    # #          ('Sequential', ['Blues', 'BuGn', 'BuPu',\n",
    "    # #                          'GnBu', 'Greens', 'Greys', 'Oranges', 'OrRd',\n",
    "    # #                          'PuBu', 'PuBuGn', 'PuRd', 'Purples', 'RdPu',\n",
    "    # #                          'Reds', 'YlGn', 'YlGnBu', 'YlOrBr', 'YlOrRd']),\n",
    "    # #          ('Sequential (2)', ['afmhot', 'autumn', 'bone', 'cool',\n",
    "    # #                              'copper', 'gist_heat', 'gray', 'hot',\n",
    "    # #                              'pink', 'spring', 'summer', 'winter']),\n",
    "    # #          ('Diverging', ['BrBG', 'bwr', 'coolwarm', 'PiYG', 'PRGn', 'PuOr',\n",
    "    # #                         'RdBu', 'RdGy', 'RdYlBu', 'RdYlGn', 'Spectral',\n",
    "    # #                         'seismic']),\n",
    "    # #          ('Qualitative', ['Accent', 'Dark2', 'Paired', 'Pastel1',\n",
    "    # #                           'Pastel2', 'Set1', 'Set2', 'Set3']),\n",
    "    # #          ('Miscellaneous', ['gist_earth', 'terrain', 'ocean', 'gist_stern',\n",
    "    # #                             'brg', 'CMRmap', 'cubehelix',\n",
    "    # #                             'gnuplot', 'gnuplot2', 'gist_ncar',\n",
    "    # #                             'nipy_spectral', 'jet', 'rainbow',\n",
    "    # #                             'gist_rainbow', 'hsv', 'flag', 'prism'])]\n"
   ]
  },
  {
   "cell_type": "code",
   "execution_count": null,
   "metadata": {
    "collapsed": true
   },
   "outputs": [],
   "source": [
    "# 8.1 scipy\n",
    "    # 线性回归例1\n",
    "    # x = np.linspace(-2, 2, 50)\n",
    "    # A, B, C = 2, 3, -1\n",
    "    # y = (A * x ** 2 + B * x + C) + np.random.rand(len(x))*0.75\n",
    "    #\n",
    "    # t = leastsq(residual, [0, 0, 0], args=(x, y))\n",
    "    # theta = t[0]\n",
    "    # print('真实值：', A, B, C)\n",
    "    # print('预测值：', theta)\n",
    "    # y_hat = theta[0] * x ** 2 + theta[1] * x + theta[2]\n",
    "    # plt.plot(x, y, 'r-', linewidth=2, label=u'Actual')\n",
    "    # plt.plot(x, y_hat, 'g-', linewidth=2, label=u'Predict')\n",
    "    # plt.legend(loc='upper left')\n",
    "    # plt.grid()\n",
    "    # plt.show()\n",
    "\n",
    "    # # 线性回归例2\n",
    "    # x = np.linspace(0, 5, 100)\n",
    "    # a = 5\n",
    "    # w = 1.5\n",
    "    # phi = -2\n",
    "    # y = a * np.sin(w*x) + phi + np.random.rand(len(x))*0.5\n",
    "    #\n",
    "    # t = leastsq(residual2, [3, 5, 1], args=(x, y))\n",
    "    # theta = t[0]\n",
    "    # print('真实值：', a, w, phi)\n",
    "    # print('预测值：', theta)\n",
    "    # y_hat = theta[0] * np.sin(theta[1] * x) + theta[2]\n",
    "    # plt.plot(x, y, 'r-', linewidth=2, label='Actual')\n",
    "    # plt.plot(x, y_hat, 'g-', linewidth=2, label='Predict')\n",
    "    # plt.legend(loc='lower left')\n",
    "    # plt.grid()\n",
    "    # plt.show()"
   ]
  },
  {
   "cell_type": "code",
   "execution_count": null,
   "metadata": {
    "collapsed": true
   },
   "outputs": [],
   "source": [
    "# # 8.2 使用scipy计算函数极值\n",
    "    # a = opt.fmin(f, 1)\n",
    "    # b = opt.fmin_cg(f, 1)\n",
    "    # c = opt.fmin_bfgs(f, 1)\n",
    "    # print(a, 1/a, math.e)\n",
    "    # print(b)\n",
    "    # print(c)\n",
    "\n",
    "    # marker\tdescription\n",
    "    # ”.”\tpoint\n",
    "    # ”,”\tpixel\n",
    "    # “o”\tcircle\n",
    "    # “v”\ttriangle_down\n",
    "    # “^”\ttriangle_up\n",
    "    # “<”\ttriangle_left\n",
    "    # “>”\ttriangle_right\n",
    "    # “1”\ttri_down\n",
    "    # “2”\ttri_up\n",
    "    # “3”\ttri_left\n",
    "    # “4”\ttri_right\n",
    "    # “8”\toctagon\n",
    "    # “s”\tsquare\n",
    "    # “p”\tpentagon\n",
    "    # “*”\tstar\n",
    "    # “h”\thexagon1\n",
    "    # “H”\thexagon2\n",
    "    # “+”\tplus\n",
    "    # “x”\tx\n",
    "    # “D”\tdiamond\n",
    "    # “d”\tthin_diamond\n",
    "    # “|”\tvline\n",
    "    # “_”\thline\n",
    "    # TICKLEFT\ttickleft\n",
    "    # TICKRIGHT\ttickright\n",
    "    # TICKUP\ttickup\n",
    "    # TICKDOWN\ttickdown\n",
    "    # CARETLEFT\tcaretleft\n",
    "    # CARETRIGHT\tcaretright\n",
    "    # CARETUP\tcaretup\n",
    "    # CARETDOWN\tcaretdown"
   ]
  }
 ],
 "metadata": {
  "kernelspec": {
   "display_name": "Python 3",
   "language": "python",
   "name": "python3"
  },
  "language_info": {
   "codemirror_mode": {
    "name": "ipython",
    "version": 3
   },
   "file_extension": ".py",
   "mimetype": "text/x-python",
   "name": "python",
   "nbconvert_exporter": "python",
   "pygments_lexer": "ipython3",
   "version": "3.6.3"
  }
 },
 "nbformat": 4,
 "nbformat_minor": 2
}

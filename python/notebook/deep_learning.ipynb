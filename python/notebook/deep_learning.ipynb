{
 "cells": [
  {
   "cell_type": "markdown",
   "metadata": {},
   "source": [
    "之前不理解的hidden layer原来就是其中的一些算交叉变量的关系。进行各种变量之间的组合，但是这里的问题就是你罗列了非常多的组合，可是你并不知道那些组合到底是和最后的结果发生关系的。这就像是一个鱼目混杂的系统，里面有很多种变量，可是你根本不知道那些是好的，那些是不起作用的。问题是你如何找到滥竽充数的那一个。我现在对神经网络的理解大概就是这一个样子的。"
   ]
  },
  {
   "cell_type": "markdown",
   "metadata": {},
   "source": [
    "An \"activation function\" is a function applied at each node. It converts the node's input into some output."
   ]
  }
 ],
 "metadata": {
  "kernelspec": {
   "display_name": "Python 3",
   "language": "python",
   "name": "python3"
  },
  "language_info": {
   "codemirror_mode": {
    "name": "ipython",
    "version": 3
   },
   "file_extension": ".py",
   "mimetype": "text/x-python",
   "name": "python",
   "nbconvert_exporter": "python",
   "pygments_lexer": "ipython3",
   "version": "3.6.3"
  }
 },
 "nbformat": 4,
 "nbformat_minor": 2
}

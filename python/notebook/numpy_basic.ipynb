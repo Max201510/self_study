{
 "cells": [
  {
   "cell_type": "markdown",
   "metadata": {},
   "source": [
    "# The Basics\n",
    "NumPy's array class is called ndarray. It is also known by the alias array.  \n",
    "\n",
    "## attribute\n",
    "- ndarray.ndim\n",
    "- ndarray.shape\n",
    "- ndarray.size\n",
    "- ndarray.dtype: an object describing the type of the elements in the array. different from type()\n",
    "- ndarray.itemsize\n",
    "- ndarray.data\n",
    "\n",
    "## Array Creation\n",
    "create an array from a regular Python list or tuple using the array function."
   ]
  },
  {
   "cell_type": "code",
   "execution_count": 2,
   "metadata": {},
   "outputs": [],
   "source": [
    "import numpy as np\n",
    "a = np.array([2,3,4])\n",
    "b = np.array([1.2, 3.5, 5.1])"
   ]
  },
  {
   "cell_type": "markdown",
   "metadata": {},
   "source": [
    "To create sequences of numbers, NumPy provides a function analogous to range that returns arrays instead of lists."
   ]
  },
  {
   "cell_type": "code",
   "execution_count": 4,
   "metadata": {},
   "outputs": [
    {
     "data": {
      "text/plain": [
       "array([10, 15, 20, 25])"
      ]
     },
     "execution_count": 4,
     "metadata": {},
     "output_type": "execute_result"
    }
   ],
   "source": [
    "np.arange(10, 30, 5)"
   ]
  },
  {
   "cell_type": "code",
   "execution_count": 6,
   "metadata": {},
   "outputs": [
    {
     "data": {
      "text/plain": [
       "array([ 0. ,  0.3,  0.6,  0.9,  1.2,  1.5,  1.8])"
      ]
     },
     "execution_count": 6,
     "metadata": {},
     "output_type": "execute_result"
    }
   ],
   "source": [
    "np.arange( 0, 2, 0.3 ) # it accepts float arguments"
   ]
  },
  {
   "cell_type": "markdown",
   "metadata": {},
   "source": [
    "## Printing Arrays\n",
    "- the last axis is printed from left to right\n",
    "- the second-to-last is printed from top to bottom\n",
    "- the rest are also printed from top to bottom, with each slice separated from the next by an empty line.\n",
    "\n",
    "## Basic Operations\n",
    "Arithmetic operators on arrays apply elementwise. A new array is created and filled with the result.\n",
    "\n",
    "## Universal Functions\n",
    "NumPy provides familiar mathematical functions such as sin, cos, and exp. In NumPy, these are called “universal functions”(ufunc). Within NumPy, these functions operate elementwise on an array, producing an array as output."
   ]
  },
  {
   "cell_type": "code",
   "execution_count": 10,
   "metadata": {},
   "outputs": [
    {
     "name": "stdout",
     "output_type": "stream",
     "text": [
      "[ 1.          2.71828183  7.3890561 ]\n",
      "[ 0.          1.          1.41421356]\n",
      "[ 2.  0.  6.]\n"
     ]
    }
   ],
   "source": [
    "B = np.arange(3)\n",
    "print(np.exp(B))\n",
    "print(np.sqrt(B))\n",
    "C = np.array([2., -1., 4.])\n",
    "print(np.add(B,C))"
   ]
  },
  {
   "cell_type": "markdown",
   "metadata": {},
   "source": [
    "## Indexing, Slicing and Iterating\n",
    "**One-dimensional** arrays can be indexed, sliced and iterated over, much like lists and other Python sequences.\n",
    "\n",
    "\n",
    "\n",
    "From thgis [link](https://docs.scipy.org/doc/numpy-dev/user/quickstart.html)."
   ]
  }
 ],
 "metadata": {
  "kernelspec": {
   "display_name": "Python 3",
   "language": "python",
   "name": "python3"
  },
  "language_info": {
   "codemirror_mode": {
    "name": "ipython",
    "version": 3
   },
   "file_extension": ".py",
   "mimetype": "text/x-python",
   "name": "python",
   "nbconvert_exporter": "python",
   "pygments_lexer": "ipython3",
   "version": "3.6.3"
  }
 },
 "nbformat": 4,
 "nbformat_minor": 2
}

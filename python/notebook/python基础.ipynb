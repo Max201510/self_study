{
 "cells": [
  {
   "cell_type": "markdown",
   "metadata": {},
   "source": [
    "使用空格来作为语句块的标志，使不同的人写的python不会有很大的差异。\n",
    "python具有丰富强大的库，常被成为胶水语言，能够把用其他语言制作的各种模块很轻松的粘在一起。\n",
    "\n",
    "python的两个分支，2.7和3.6，并不完全兼容\n",
    "pip install numpy的原理是在https://pypi.python.org 这个网站上找到最新的包，根据当前电脑的型号去安装。\n",
    "\n",
    "Numpy是C写的\n",
    "\n",
    "Pandas基于Numpy的，dataframe\n",
    "\n",
    "Scipy在Numpy基础上添加了众多科学工具\n",
    "\n",
    "Matplotlib， python丰富的会图库\n",
    "\n",
    "原来a[1:9:2]中的2是步长的意思"
   ]
  }
 ],
 "metadata": {
  "kernelspec": {
   "display_name": "Python 3",
   "language": "python",
   "name": "python3"
  },
  "language_info": {
   "codemirror_mode": {
    "name": "ipython",
    "version": 3
   },
   "file_extension": ".py",
   "mimetype": "text/x-python",
   "name": "python",
   "nbconvert_exporter": "python",
   "pygments_lexer": "ipython3",
   "version": "3.6.3"
  }
 },
 "nbformat": 4,
 "nbformat_minor": 2
}
